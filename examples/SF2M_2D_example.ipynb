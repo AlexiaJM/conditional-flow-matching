{
 "cells": [
  {
   "cell_type": "code",
   "execution_count": 1,
   "metadata": {},
   "outputs": [
    {
     "name": "stderr",
     "output_type": "stream",
     "text": [
      "/home/mila/a/alexander.tong/.conda/envs/trajectory-inference/lib/python3.10/site-packages/lightning_utilities/core/imports.py:93: UserWarning: Unbuilt egg for MIOFlow [unknown version] (/home/mila/a/alexander.tong/MIOFlow)\n",
      "  pkg_resources.require(self.requirement)\n"
     ]
    }
   ],
   "source": [
    "%load_ext autoreload\n",
    "%autoreload 2\n",
    "import os\n",
    "\n",
    "import matplotlib.pyplot as plt\n",
    "import torch\n",
    "import torchsde\n",
    "from torchdyn.core import NeuralODE\n",
    "from tqdm import tqdm\n",
    "\n",
    "from torchcfm.conditional_flow_matching import *\n",
    "from torchcfm.models import MLP\n",
    "from torchcfm.utils import SDE, sample_8gaussians, sample_moons, torch_wrapper\n",
    "\n",
    "savedir = \"models/2d\"\n",
    "os.makedirs(savedir, exist_ok=True)"
   ]
  },
  {
   "cell_type": "code",
   "execution_count": 2,
   "metadata": {},
   "outputs": [],
   "source": [
    "def plot_trajectories_sb(traj, legend=True):\n",
    "    n = 2000\n",
    "    plt.figure(figsize=(10, 10))\n",
    "    plt.scatter(traj[0, :n, 0], traj[0, :n, 1], s=10, alpha=0.8, c=\"black\")\n",
    "    plt.scatter(traj[:, :n, 0], traj[:, :n, 1], s=0.4, alpha=0.1, c=\"olive\")\n",
    "    plt.scatter(traj[-1, :n, 0], traj[-1, :n, 1], s=4, alpha=1, c=\"blue\")\n",
    "\n",
    "    for i in range(5, 15):\n",
    "        plt.plot(traj[:, i, 0], traj[:, i, 1], alpha=0.9, c=\"red\")\n",
    "    if legend:\n",
    "        plt.legend([r\"$p_0$\", r\"$p_t$\", r\"$p_1$\", r\"$X_t \\mid X_0$\"])\n",
    "    plt.xticks([])\n",
    "    plt.yticks([])\n",
    "    plt.axis(\"off\")"
   ]
  },
  {
   "cell_type": "code",
   "execution_count": 3,
   "metadata": {},
   "outputs": [],
   "source": [
    "use_cuda = torch.cuda.is_available()\n",
    "device = torch.device(\"cuda\" if use_cuda else \"cpu\")\n",
    "batch_size = 256\n",
    "sigma = 1.0\n",
    "dim = 2\n",
    "model = MLP(dim=dim, time_varying=True, w=64)\n",
    "score_model = MLP(dim=dim, time_varying=True, w=64)\n",
    "optimizer = torch.optim.Adam(list(model.parameters()) + list(score_model.parameters()), 0.01)\n",
    "# FM = ConditionalFlowMatcher(sigma=sigma)\n",
    "FM = SchrodingerBridgeConditionalFlowMatcher(sigma=sigma)"
   ]
  },
  {
   "cell_type": "code",
   "execution_count": 4,
   "metadata": {},
   "outputs": [
    {
     "name": "stderr",
     "output_type": "stream",
     "text": [
      " 19%|████████▌                                    | 1896/10000 [08:11<35:00,  3.86it/s]\n"
     ]
    },
    {
     "ename": "KeyboardInterrupt",
     "evalue": "",
     "output_type": "error",
     "traceback": [
      "\u001b[0;31m---------------------------------------------------------------------------\u001b[0m",
      "\u001b[0;31mKeyboardInterrupt\u001b[0m                         Traceback (most recent call last)",
      "Cell \u001b[0;32mIn[4], line 5\u001b[0m\n\u001b[1;32m      3\u001b[0m x0 \u001b[38;5;241m=\u001b[39m sample_8gaussians(batch_size)\n\u001b[1;32m      4\u001b[0m x1 \u001b[38;5;241m=\u001b[39m sample_moons(batch_size)\n\u001b[0;32m----> 5\u001b[0m t, xt, ut, eps \u001b[38;5;241m=\u001b[39m \u001b[43mFM\u001b[49m\u001b[38;5;241;43m.\u001b[39;49m\u001b[43msample_location_and_conditional_flow\u001b[49m\u001b[43m(\u001b[49m\u001b[43mx0\u001b[49m\u001b[43m,\u001b[49m\u001b[43m \u001b[49m\u001b[43mx1\u001b[49m\u001b[43m,\u001b[49m\u001b[43m \u001b[49m\u001b[43mreturn_noise\u001b[49m\u001b[38;5;241;43m=\u001b[39;49m\u001b[38;5;28;43;01mTrue\u001b[39;49;00m\u001b[43m)\u001b[49m\n\u001b[1;32m      6\u001b[0m lambda_t \u001b[38;5;241m=\u001b[39m FM\u001b[38;5;241m.\u001b[39mcompute_lambda(t)\n\u001b[1;32m      7\u001b[0m vt \u001b[38;5;241m=\u001b[39m model(torch\u001b[38;5;241m.\u001b[39mcat([xt, t[:, \u001b[38;5;28;01mNone\u001b[39;00m]], dim\u001b[38;5;241m=\u001b[39m\u001b[38;5;241m-\u001b[39m\u001b[38;5;241m1\u001b[39m))\n",
      "File \u001b[0;32m~/conditional-flow-matching-private/torchcfm/conditional_flow_matching.py:441\u001b[0m, in \u001b[0;36mSchrodingerBridgeConditionalFlowMatcher.sample_location_and_conditional_flow\u001b[0;34m(self, x0, x1, return_noise)\u001b[0m\n\u001b[1;32m    413\u001b[0m \u001b[38;5;28;01mdef\u001b[39;00m \u001b[38;5;21msample_location_and_conditional_flow\u001b[39m(\u001b[38;5;28mself\u001b[39m, x0, x1, return_noise\u001b[38;5;241m=\u001b[39m\u001b[38;5;28;01mFalse\u001b[39;00m):\n\u001b[1;32m    414\u001b[0m \u001b[38;5;250m    \u001b[39m\u001b[38;5;124;03m\"\"\"\u001b[39;00m\n\u001b[1;32m    415\u001b[0m \u001b[38;5;124;03m    Compute the sample xt (drawn from N(t * x1 + (1 - t) * x0, sqrt(t * (1 - t))*sigma^2 ))\u001b[39;00m\n\u001b[1;32m    416\u001b[0m \u001b[38;5;124;03m    and the conditional vector field ut(x1|x0) = (1 - 2 * t) / (2 * t * (1 - t)) * (xt - mu_t) + x1 - x0,\u001b[39;00m\n\u001b[0;32m   (...)\u001b[0m\n\u001b[1;32m    439\u001b[0m \u001b[38;5;124;03m    [1] Improving and Generalizing Flow-Based Generative Models with minibatch optimal transport, Preprint, Tong et al.\u001b[39;00m\n\u001b[1;32m    440\u001b[0m \u001b[38;5;124;03m    \"\"\"\u001b[39;00m\n\u001b[0;32m--> 441\u001b[0m     x0, x1 \u001b[38;5;241m=\u001b[39m \u001b[38;5;28;43mself\u001b[39;49m\u001b[38;5;241;43m.\u001b[39;49m\u001b[43mot_sampler\u001b[49m\u001b[38;5;241;43m.\u001b[39;49m\u001b[43msample_plan\u001b[49m\u001b[43m(\u001b[49m\u001b[43mx0\u001b[49m\u001b[43m,\u001b[49m\u001b[43m \u001b[49m\u001b[43mx1\u001b[49m\u001b[43m)\u001b[49m\n\u001b[1;32m    442\u001b[0m     \u001b[38;5;28;01mreturn\u001b[39;00m \u001b[38;5;28msuper\u001b[39m()\u001b[38;5;241m.\u001b[39msample_location_and_conditional_flow(x0, x1, return_noise)\n",
      "File \u001b[0;32m~/conditional-flow-matching-private/torchcfm/optimal_transport.py:66\u001b[0m, in \u001b[0;36mOTPlanSampler.sample_plan\u001b[0;34m(self, x0, x1)\u001b[0m\n\u001b[1;32m     65\u001b[0m \u001b[38;5;28;01mdef\u001b[39;00m \u001b[38;5;21msample_plan\u001b[39m(\u001b[38;5;28mself\u001b[39m, x0, x1):\n\u001b[0;32m---> 66\u001b[0m     pi \u001b[38;5;241m=\u001b[39m \u001b[38;5;28;43mself\u001b[39;49m\u001b[38;5;241;43m.\u001b[39;49m\u001b[43mget_map\u001b[49m\u001b[43m(\u001b[49m\u001b[43mx0\u001b[49m\u001b[43m,\u001b[49m\u001b[43m \u001b[49m\u001b[43mx1\u001b[49m\u001b[43m)\u001b[49m\n\u001b[1;32m     67\u001b[0m     i, j \u001b[38;5;241m=\u001b[39m \u001b[38;5;28mself\u001b[39m\u001b[38;5;241m.\u001b[39msample_map(pi, x0\u001b[38;5;241m.\u001b[39mshape[\u001b[38;5;241m0\u001b[39m])\n\u001b[1;32m     68\u001b[0m     \u001b[38;5;28;01mreturn\u001b[39;00m x0[i], x1[j]\n",
      "File \u001b[0;32m~/conditional-flow-matching-private/torchcfm/optimal_transport.py:48\u001b[0m, in \u001b[0;36mOTPlanSampler.get_map\u001b[0;34m(self, x0, x1)\u001b[0m\n\u001b[1;32m     46\u001b[0m     x1 \u001b[38;5;241m=\u001b[39m x1\u001b[38;5;241m.\u001b[39mreshape(x1\u001b[38;5;241m.\u001b[39mshape[\u001b[38;5;241m0\u001b[39m], \u001b[38;5;241m-\u001b[39m\u001b[38;5;241m1\u001b[39m)\n\u001b[1;32m     47\u001b[0m x1 \u001b[38;5;241m=\u001b[39m x1\u001b[38;5;241m.\u001b[39mreshape(x1\u001b[38;5;241m.\u001b[39mshape[\u001b[38;5;241m0\u001b[39m], \u001b[38;5;241m-\u001b[39m\u001b[38;5;241m1\u001b[39m)\n\u001b[0;32m---> 48\u001b[0m M \u001b[38;5;241m=\u001b[39m \u001b[43mtorch\u001b[49m\u001b[38;5;241;43m.\u001b[39;49m\u001b[43mcdist\u001b[49m\u001b[43m(\u001b[49m\u001b[43mx0\u001b[49m\u001b[43m,\u001b[49m\u001b[43m \u001b[49m\u001b[43mx1\u001b[49m\u001b[43m)\u001b[49m \u001b[38;5;241m*\u001b[39m\u001b[38;5;241m*\u001b[39m \u001b[38;5;241m2\u001b[39m\n\u001b[1;32m     49\u001b[0m \u001b[38;5;28;01mif\u001b[39;00m \u001b[38;5;28mself\u001b[39m\u001b[38;5;241m.\u001b[39mnormalize_cost:\n\u001b[1;32m     50\u001b[0m     M \u001b[38;5;241m=\u001b[39m M \u001b[38;5;241m/\u001b[39m M\u001b[38;5;241m.\u001b[39mmax() \u001b[38;5;66;03m#should not be normalized when using minibatches\u001b[39;00m\n",
      "File \u001b[0;32m~/.conda/envs/trajectory-inference/lib/python3.10/site-packages/torch/functional.py:1214\u001b[0m, in \u001b[0;36mcdist\u001b[0;34m(x1, x2, p, compute_mode)\u001b[0m\n\u001b[1;32m   1211\u001b[0m     \u001b[38;5;28;01mreturn\u001b[39;00m handle_torch_function(\n\u001b[1;32m   1212\u001b[0m         cdist, (x1, x2), x1, x2, p\u001b[38;5;241m=\u001b[39mp, compute_mode\u001b[38;5;241m=\u001b[39mcompute_mode)\n\u001b[1;32m   1213\u001b[0m \u001b[38;5;28;01mif\u001b[39;00m compute_mode \u001b[38;5;241m==\u001b[39m \u001b[38;5;124m'\u001b[39m\u001b[38;5;124muse_mm_for_euclid_dist_if_necessary\u001b[39m\u001b[38;5;124m'\u001b[39m:\n\u001b[0;32m-> 1214\u001b[0m     \u001b[38;5;28;01mreturn\u001b[39;00m \u001b[43m_VF\u001b[49m\u001b[38;5;241;43m.\u001b[39;49m\u001b[43mcdist\u001b[49m\u001b[43m(\u001b[49m\u001b[43mx1\u001b[49m\u001b[43m,\u001b[49m\u001b[43m \u001b[49m\u001b[43mx2\u001b[49m\u001b[43m,\u001b[49m\u001b[43m \u001b[49m\u001b[43mp\u001b[49m\u001b[43m,\u001b[49m\u001b[43m \u001b[49m\u001b[38;5;28;43;01mNone\u001b[39;49;00m\u001b[43m)\u001b[49m  \u001b[38;5;66;03m# type: ignore[attr-defined]\u001b[39;00m\n\u001b[1;32m   1215\u001b[0m \u001b[38;5;28;01melif\u001b[39;00m compute_mode \u001b[38;5;241m==\u001b[39m \u001b[38;5;124m'\u001b[39m\u001b[38;5;124muse_mm_for_euclid_dist\u001b[39m\u001b[38;5;124m'\u001b[39m:\n\u001b[1;32m   1216\u001b[0m     \u001b[38;5;28;01mreturn\u001b[39;00m _VF\u001b[38;5;241m.\u001b[39mcdist(x1, x2, p, \u001b[38;5;241m1\u001b[39m)  \u001b[38;5;66;03m# type: ignore[attr-defined]\u001b[39;00m\n",
      "\u001b[0;31mKeyboardInterrupt\u001b[0m: "
     ]
    }
   ],
   "source": [
    "for i in tqdm(range(10000)):\n",
    "    optimizer.zero_grad()\n",
    "    x0 = sample_8gaussians(batch_size)\n",
    "    x1 = sample_moons(batch_size)\n",
    "    t, xt, ut, eps = FM.sample_location_and_conditional_flow(x0, x1, return_noise=True)\n",
    "    lambda_t = FM.compute_lambda(t)\n",
    "    vt = model(torch.cat([xt, t[:, None]], dim=-1))\n",
    "    st = score_model(torch.cat([xt, t[:, None]], dim=-1))\n",
    "    flow_loss = torch.mean((vt - ut) ** 2)\n",
    "    score_loss = torch.mean((lambda_t[:, None] * st + eps) ** 2)\n",
    "    loss = flow_loss + score_loss\n",
    "    loss.backward()\n",
    "    optimizer.step()"
   ]
  },
  {
   "cell_type": "code",
   "execution_count": null,
   "metadata": {},
   "outputs": [],
   "source": [
    "node = NeuralODE(torch_wrapper(model), solver=\"euler\", sensitivity=\"adjoint\", atol=1e-4, rtol=1e-4)\n",
    "x0 = sample_8gaussians(1024)\n",
    "with torch.no_grad():\n",
    "    traj = node.trajectory(\n",
    "        x0,\n",
    "        t_span=torch.linspace(0, 1, 100).to(device),\n",
    "    )\n",
    "\n",
    "sde = SDE(model, score_model)\n",
    "with torch.no_grad():\n",
    "    sde_traj = torchsde.sdeint(\n",
    "        sde,\n",
    "        x0,\n",
    "        ts=torch.linspace(0, 1, 100),\n",
    "        solver=\"euler\",\n",
    "    )"
   ]
  },
  {
   "cell_type": "code",
   "execution_count": null,
   "metadata": {},
   "outputs": [],
   "source": [
    "plot_trajectories_sb(traj, legend=False)\n",
    "plot_trajectories_sb(sde_traj, legend=False)"
   ]
  },
  {
   "cell_type": "code",
   "execution_count": null,
   "metadata": {},
   "outputs": [],
   "source": []
  }
 ],
 "metadata": {
  "kernelspec": {
   "display_name": "Python 3 (ipykernel)",
   "language": "python",
   "name": "python3"
  },
  "language_info": {
   "codemirror_mode": {
    "name": "ipython",
    "version": 3
   },
   "file_extension": ".py",
   "mimetype": "text/x-python",
   "name": "python",
   "nbconvert_exporter": "python",
   "pygments_lexer": "ipython3",
   "version": "3.10.8"
  }
 },
 "nbformat": 4,
 "nbformat_minor": 4
}
